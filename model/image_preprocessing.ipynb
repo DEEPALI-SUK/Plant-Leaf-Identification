{
  "nbformat": 4,
  "nbformat_minor": 0,
  "metadata": {
    "colab": {
      "name": "image_preprocessing.ipynb",
      "provenance": [],
      "collapsed_sections": []
    },
    "kernelspec": {
      "name": "python3",
      "display_name": "Python 3"
    },
    "language_info": {
      "name": "python"
    }
  },
  "cells": [
    {
      "cell_type": "code",
      "source": [
        "from google.colab import drive\n",
        "drive.mount('/content/drive')"
      ],
      "metadata": {
        "colab": {
          "base_uri": "https://localhost:8080/"
        },
        "id": "ZD4EAudnZGEd",
        "outputId": "fd6a8624-7004-4634-90eb-fd27951b553c"
      },
      "execution_count": 1,
      "outputs": [
        {
          "output_type": "stream",
          "name": "stdout",
          "text": [
            "Drive already mounted at /content/drive; to attempt to forcibly remount, call drive.mount(\"/content/drive\", force_remount=True).\n"
          ]
        }
      ]
    },
    {
      "cell_type": "code",
      "source": [
        "cd /content/drive/MyDrive/inter_iit"
      ],
      "metadata": {
        "colab": {
          "base_uri": "https://localhost:8080/"
        },
        "id": "-sXGEKoXZLun",
        "outputId": "f52060bf-8cb7-44a1-fdd6-e8c62da18fc8"
      },
      "execution_count": 2,
      "outputs": [
        {
          "output_type": "stream",
          "name": "stdout",
          "text": [
            "/content/drive/MyDrive/inter_iit\n"
          ]
        }
      ]
    },
    {
      "cell_type": "code",
      "source": [
        "!pip install mahotas"
      ],
      "metadata": {
        "colab": {
          "base_uri": "https://localhost:8080/"
        },
        "id": "aJqasv5wZksz",
        "outputId": "d728d325-0785-4617-f241-306707065f58"
      },
      "execution_count": 3,
      "outputs": [
        {
          "output_type": "stream",
          "name": "stdout",
          "text": [
            "Requirement already satisfied: mahotas in /usr/local/lib/python3.7/dist-packages (1.4.12)\n",
            "Requirement already satisfied: numpy in /usr/local/lib/python3.7/dist-packages (from mahotas) (1.21.4)\n"
          ]
        }
      ]
    },
    {
      "cell_type": "code",
      "source": [
        "pip install numpy --upgrade"
      ],
      "metadata": {
        "colab": {
          "base_uri": "https://localhost:8080/"
        },
        "id": "0MwJpObwZtEL",
        "outputId": "1388ae91-7c78-4ecf-cac9-2dea95db6f6b"
      },
      "execution_count": 4,
      "outputs": [
        {
          "output_type": "stream",
          "name": "stdout",
          "text": [
            "Requirement already satisfied: numpy in /usr/local/lib/python3.7/dist-packages (1.21.4)\n"
          ]
        }
      ]
    },
    {
      "cell_type": "code",
      "source": [
        "import os\n",
        "import cv2\n",
        "import numpy as np\n",
        "import pandas as pd\n",
        "import mahotas as mt\n",
        "from matplotlib import pyplot as plt\n",
        "%matplotlib inline"
      ],
      "metadata": {
        "id": "ckeTwTvZZ0yG"
      },
      "execution_count": 5,
      "outputs": []
    },
    {
      "cell_type": "code",
      "source": [
        "dest = r'/content/drive/MyDrive/inter_iit/Leaves/'\n",
        "images = os.listdir(dest)"
      ],
      "metadata": {
        "id": "zzd5z-FKbcc6"
      },
      "execution_count": 6,
      "outputs": []
    },
    {
      "cell_type": "code",
      "source": [
        "category_points = [1001,1059,1060,1122,1552,1616,1123,1194,1195,1267,1268,1323,1324,1385,1386,1437,1497,1551,1438,1496,2001,2050,2051,2113,2114,2165,2166,2230,2231,2290,2291,2346,2347,2423,2424,2485,2486,2546,2547,2612,2616,2675,3001,3055,3056,3110,3111,3175,3176,3229,3230,3281,3282,3334,3335,3389,3390,3446,3447,3510,3511,3563,3566,3621]"
      ],
      "metadata": {
        "id": "_gnI7MkFDyBS"
      },
      "execution_count": 7,
      "outputs": []
    },
    {
      "cell_type": "code",
      "source": [
        "def dataset_creation():\n",
        "    attributes = ['area','perimeter','length','width','aspect_ratio','rectangularity','circularity', 'mean_r','mean_g','mean_b','stdd_r','stdd_g','std_b', 'contrast','correlation','inverse_difference_moments','entropy','target']\n",
        "    dataframe = pd.DataFrame([], columns=attributes)\n",
        "    for imgs in images:\n",
        "        img_path = dest + imgs\n",
        "        main_image = cv2.imread(img_path)\n",
        "        \n",
        "        image = cv2.cvtColor(main_image, cv2.COLOR_BGR2RGB)\n",
        "        gray = cv2.cvtColor(image,cv2.COLOR_RGB2GRAY)\n",
        "        blur = cv2.GaussianBlur(gray, (25,25),0)\n",
        "        ret_otsu,im_bw_otsu = cv2.threshold(blur,0,255,cv2.THRESH_BINARY_INV+cv2.THRESH_OTSU)\n",
        "        kernel = np.ones((50,50),np.uint8)\n",
        "        closing = cv2.morphologyEx(im_bw_otsu, cv2.MORPH_CLOSE, kernel)\n",
        "        \n",
        "        contours, _ = cv2.findContours(closing,cv2.RETR_TREE,cv2.CHAIN_APPROX_SIMPLE)\n",
        "        cnt = contours[0]\n",
        "        M = cv2.moments(cnt)\n",
        "        area = cv2.contourArea(cnt)\n",
        "        perimeter = cv2.arcLength(cnt,True)\n",
        "        p,q,r,s = cv2.boundingRect(cnt)\n",
        "        aspect_ratio = float(r)/s\n",
        "        rectangularity = r*s/area\n",
        "        circularity = ((perimeter)**2)/area\n",
        "        \n",
        "        red = image[:,:,0]\n",
        "        green = image[:,:,1]\n",
        "        blue = image[:,:,2]\n",
        "        blue[blue == 255] = 0\n",
        "        green[green == 255] = 0\n",
        "        red[red == 255] = 0\n",
        "        \n",
        "        mean_r = np.mean(red)\n",
        "        mean_g = np.mean(green)\n",
        "        mean_b = np.mean(blue)\n",
        "        \n",
        "        stdd_r= np.std(red)\n",
        "        stdd_g = np.std(green)\n",
        "        stdd_b = np.std(blue)\n",
        "        \n",
        "        texture = mt.features.haralick(gray)\n",
        "        ht_mean = texture.mean(axis=0)\n",
        "        contrast = ht_mean[1]\n",
        "        correlation = ht_mean[2]\n",
        "        inverse_diff_moments = ht_mean[4]\n",
        "        entropy = ht_mean[8]\n",
        "        target=''\n",
        "        image_number = int(imgs.split(\".\")[0])\n",
        "        f = 0\n",
        "        i = 0 \n",
        "        for i in range(0,len(category_points),2):\n",
        "          if((image_number >= category_points[i]) and (image_number <= category_points[i+1])):\n",
        "            f = 1\n",
        "            break\n",
        "        if(f==1):\n",
        "         target = int((i/2))\n",
        "         \n",
        "\n",
        "        vector = [area,perimeter,r,s,aspect_ratio,rectangularity,circularity,mean_r,mean_g,mean_b,stdd_r,stdd_g,stdd_b,contrast,correlation,inverse_diff_moments,entropy,target]\n",
        "        \n",
        "        temp = pd.DataFrame([vector],columns=attributes)\n",
        "        dataframe = dataframe.append(temp)\n",
        "    return dataframe"
      ],
      "metadata": {
        "id": "-oBRuJDJcfdI"
      },
      "execution_count": 11,
      "outputs": []
    },
    {
      "cell_type": "code",
      "source": [
        "dataset = dataset_creation()"
      ],
      "metadata": {
        "id": "NWTsrlf6hGtd"
      },
      "execution_count": 12,
      "outputs": []
    },
    {
      "cell_type": "code",
      "source": [
        "dataset.to_csv(\"leaves.csv\")"
      ],
      "metadata": {
        "id": "nYkBcowNkQib"
      },
      "execution_count": 13,
      "outputs": []
    }
  ]
}